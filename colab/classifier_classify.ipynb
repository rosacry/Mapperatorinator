{
 "cells": [
  {
   "metadata": {},
   "cell_type": "markdown",
   "source": [
    "<a href=\"https://colab.research.google.com/github/OliBomby/Mapperatorinator/blob/main/colab/classifier_classify.ipynb\" target=\"_parent\"><img src=\"https://colab.research.google.com/assets/colab-badge.svg\" alt=\"Open In Colab\"/></a>\n",
    "\n",
    "# Beatmap Mapper Classification\n",
    "\n",
    "This notebook is an interactive demo of an osu! beatmap mapper classification model created by OliBomby. This model is capable of predicting which osu! standard ranked mapper mapped any given beatmap by looking at the style. You can use this on your own maps to see which mapper you are most similar to.\n",
    "\n",
    "### Instructions for running:\n",
    "\n",
    "* Press ▶️ on the left of each cell to execute the cell\n",
    "* __Upload Audio__, choose a .mp3 or .ogg file from your computer\n",
    "* __Upload Beatmap__, choose a .osu file from your computer\n",
    "* __Configure__, choose the time of the segment which the classifier should classify.\n",
    "* Classify the beatmap using the __Classify Beatmap__ cell\n"
   ],
   "id": "3c19902455e25588"
  },
  {
   "cell_type": "code",
   "id": "initial_id",
   "metadata": {
    "collapsed": true
   },
   "source": [
    "#@title Setup Environment { display-mode: \"form\" }\n",
    "\n",
    "!git clone https://github.com/OliBomby/Mapperatorinator.git\n",
    "%cd Mapperatorinator\n",
    "\n",
    "!pip install -r requirements.txt\n",
    "\n",
    "from google.colab import files\n",
    "\n",
    "from hydra import compose, initialize\n",
    "from classifier.classify import main\n",
    "\n",
    "input_audio = \"\"\n",
    "input_beatmap = \"\""
   ],
   "outputs": [],
   "execution_count": null
  },
  {
   "metadata": {},
   "cell_type": "code",
   "source": [
    "#@title Upload Audio { display-mode: \"form\" }\n",
    "\n",
    "def upload_audio():\n",
    "  data = list(files.upload().keys())\n",
    "  if len(data) > 1:\n",
    "    print('Multiple files uploaded; using only one.')\n",
    "  return data[0]\n",
    "\n",
    "input_audio = upload_audio()"
   ],
   "id": "624a60c5777279e7",
   "outputs": [],
   "execution_count": null
  },
  {
   "metadata": {},
   "cell_type": "code",
   "source": [
    "#@title (Optional) Upload Beatmap { display-mode: \"form\" }\n",
    "\n",
    "def upload_beatmap():\n",
    "  data = list(files.upload().keys())\n",
    "  if len(data) > 1:\n",
    "    print('Multiple files uploaded; using only one.')\n",
    "  return data[0]\n",
    "\n",
    "input_beatmap = upload_beatmap()"
   ],
   "id": "63884394491f6664",
   "outputs": [],
   "execution_count": null
  },
  {
   "metadata": {},
   "cell_type": "code",
   "source": [
    "#@title Configure and Generate Beatmap { display-mode: \"form\" }\n",
    "\n",
    "# @markdown #### Input the start time in seconds of the segment to classify.\n",
    "time = 5 # @param {type:\"number\"}\n",
    "    \n",
    "# Create config\n",
    "with initialize(version_base=\"1.1\", config_path=\"classifier/configs\"):\n",
    "    conf = compose(config_name=\"inference\")\n",
    "\n",
    "# Do inference\n",
    "conf.time = time\n",
    "conf.beatmap_path = input_beatmap\n",
    "conf.audio_path = input_audio\n",
    "\n",
    "main(conf)\n"
   ],
   "id": "166eb3e5f9398554",
   "outputs": [],
   "execution_count": null
  }
 ],
 "metadata": {
  "kernelspec": {
   "display_name": "Python 3",
   "language": "python",
   "name": "python3"
  },
  "accelerator": "GPU",
  "language_info": {
   "codemirror_mode": {
    "name": "ipython",
    "version": 2
   },
   "file_extension": ".py",
   "mimetype": "text/x-python",
   "name": "python",
   "nbconvert_exporter": "python",
   "pygments_lexer": "ipython2",
   "version": "2.7.6"
  }
 },
 "nbformat": 4,
 "nbformat_minor": 5
}
